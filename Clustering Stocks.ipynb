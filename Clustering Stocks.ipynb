{
 "cells": [
  {
   "cell_type": "code",
   "execution_count": 2,
   "metadata": {},
   "outputs": [],
   "source": [
    "import pandas as pd\n",
    "import requests"
   ]
  },
  {
   "cell_type": "code",
   "execution_count": 3,
   "metadata": {},
   "outputs": [
    {
     "name": "stderr",
     "output_type": "stream",
     "text": [
      "C:\\Users\\adamm\\AppData\\Local\\Temp\\ipykernel_19228\\982236273.py:5: FutureWarning: The default value of regex will change from True to False in a future version. In addition, single character regular expressions will *not* be treated as literal strings when regex=True.\n",
      "  symbols_stock['Symbol'] = symbols_stock['Symbol'].str.replace('^', '')\n"
     ]
    },
    {
     "data": {
      "text/plain": [
       "(5807, 1)"
      ]
     },
     "metadata": {},
     "output_type": "display_data"
    }
   ],
   "source": [
    "#loading the stock tickers into a data frame\n",
    "symbols_stock = pd.read_csv(\"list_stock.csv\")\n",
    "\n",
    "#removing the unnecessary character\n",
    "symbols_stock['Symbol'] = symbols_stock['Symbol'].str.replace('^', '')\n",
    "\n",
    "display(symbols_stock.shape)"
   ]
  },
  {
   "cell_type": "code",
   "execution_count": 5,
   "metadata": {},
   "outputs": [],
   "source": [
    "#define the size of the chunk\n",
    "size_chunk = 100\n",
    "\n",
    "#making the data frame into chunks of 100\n",
    "chunk_symbols = [symbols_stock[i:i+size_chunk] for i in range(0, symbols_stock.shape[0], size_chunk)]\n"
   ]
  },
  {
   "cell_type": "code",
   "execution_count": 6,
   "metadata": {},
   "outputs": [
    {
     "data": {
      "text/plain": [
       "[   Symbol\n",
       " 0       A\n",
       " 1      AA\n",
       " 2    AABA\n",
       " 3     AAC\n",
       " 4     AAL\n",
       " ..    ...\n",
       " 95    ADX\n",
       " 96   ADXS\n",
       " 97     AE\n",
       " 98    AEB\n",
       " 99    AEE\n",
       " \n",
       " [100 rows x 1 columns],\n",
       "     Symbol\n",
       " 100    AEF\n",
       " 101   AEGN\n",
       " 102   AEHR\n",
       " 103   AEIS\n",
       " 104    AEL\n",
       " ..     ...\n",
       " 195   ALDR\n",
       " 196   ALDX\n",
       " 197    ALE\n",
       " 198   ALEC\n",
       " 199   ALEX\n",
       " \n",
       " [100 rows x 1 columns],\n",
       "     Symbol\n",
       " 200    ALG\n",
       " 201   ALGN\n",
       " 202   ALGR\n",
       " 203   ALGT\n",
       " 204   ALIM\n",
       " ..     ...\n",
       " 295   ANSS\n",
       " 296   ANTE\n",
       " 297   ANTM\n",
       " 298    ANY\n",
       " 299   AOBC\n",
       " \n",
       " [100 rows x 1 columns],\n",
       "     Symbol\n",
       " 300    AOD\n",
       " 301    AON\n",
       " 302    AOS\n",
       " 303   AOSL\n",
       " 304     AP\n",
       " ..     ...\n",
       " 395   ASGN\n",
       " 396    ASH\n",
       " 397   ASIX\n",
       " 398   ASLN\n",
       " 399    ASM\n",
       " \n",
       " [100 rows x 1 columns],\n",
       "     Symbol\n",
       " 400   ASMB\n",
       " 401   ASML\n",
       " 402   ASNA\n",
       " 403   ASND\n",
       " 404   ASPN\n",
       " ..     ...\n",
       " 495   AWSM\n",
       " 496    AWX\n",
       " 497     AX\n",
       " 498   AXAS\n",
       " 499   AXDX\n",
       " \n",
       " [100 rows x 1 columns]]"
      ]
     },
     "execution_count": 6,
     "metadata": {},
     "output_type": "execute_result"
    }
   ],
   "source": [
    "#example of the chunk\n",
    "chunk_example = list(chunk_symbols[0]['Symbol'])\n",
    "\n",
    "#display the first 5 items\n",
    "chunk_symbols[:5]"
   ]
  },
  {
   "cell_type": "code",
   "execution_count": null,
   "metadata": {},
   "outputs": [],
   "source": []
  }
 ],
 "metadata": {
  "interpreter": {
   "hash": "2be5faf79681da6f2a61fdfdd5405d65d042280f7fba6178067603e3a2925119"
  },
  "kernelspec": {
   "display_name": "Python 3.10.4 64-bit",
   "language": "python",
   "name": "python3"
  },
  "language_info": {
   "codemirror_mode": {
    "name": "ipython",
    "version": 3
   },
   "file_extension": ".py",
   "mimetype": "text/x-python",
   "name": "python",
   "nbconvert_exporter": "python",
   "pygments_lexer": "ipython3",
   "version": "3.10.4"
  },
  "orig_nbformat": 4
 },
 "nbformat": 4,
 "nbformat_minor": 2
}
