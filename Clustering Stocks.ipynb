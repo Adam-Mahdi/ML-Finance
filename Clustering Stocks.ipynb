{
 "cells": [
  {
   "cell_type": "code",
   "execution_count": 2,
   "metadata": {},
   "outputs": [],
   "source": [
    "import pandas as pd\n",
    "import requests"
   ]
  },
  {
   "cell_type": "code",
   "execution_count": 3,
   "metadata": {},
   "outputs": [
    {
     "name": "stderr",
     "output_type": "stream",
     "text": [
      "C:\\Users\\adamm\\AppData\\Local\\Temp\\ipykernel_19228\\982236273.py:5: FutureWarning: The default value of regex will change from True to False in a future version. In addition, single character regular expressions will *not* be treated as literal strings when regex=True.\n",
      "  symbols_stock['Symbol'] = symbols_stock['Symbol'].str.replace('^', '')\n"
     ]
    },
    {
     "data": {
      "text/plain": [
       "(5807, 1)"
      ]
     },
     "metadata": {},
     "output_type": "display_data"
    }
   ],
   "source": [
    "#loading the stock tickers into a data frame\n",
    "symbols_stock = pd.read_csv(\"list_stock.csv\")\n",
    "\n",
    "#removing the unnecessary character\n",
    "symbols_stock['Symbol'] = symbols_stock['Symbol'].str.replace('^', '')\n",
    "\n",
    "display(symbols_stock.shape)"
   ]
  },
  {
   "cell_type": "code",
   "execution_count": 5,
   "metadata": {},
   "outputs": [],
   "source": [
    "#define the size of the chunk\n",
    "size_chunk = 100\n",
    "\n",
    "#making the data frame into chunks of 100\n",
    "chunk_symbols = [symbols_stock[i:i+size_chunk] for i in range(0, symbols_stock.shape[0], size_chunk)]\n"
   ]
  },
  {
   "cell_type": "code",
   "execution_count": 7,
   "metadata": {},
   "outputs": [
    {
     "data": {
      "text/plain": [
       "['A', 'AA', 'AABA', 'AAC', 'AAL']"
      ]
     },
     "execution_count": 7,
     "metadata": {},
     "output_type": "execute_result"
    }
   ],
   "source": [
    "#example of the chunk\n",
    "chunk_example = list(chunk_symbols[0]['Symbol'])\n",
    "\n",
    "#display the first 5 items\n",
    "chunk_example[:5]"
   ]
  },
  {
   "cell_type": "code",
   "execution_count": null,
   "metadata": {},
   "outputs": [],
   "source": []
  }
 ],
 "metadata": {
  "interpreter": {
   "hash": "2be5faf79681da6f2a61fdfdd5405d65d042280f7fba6178067603e3a2925119"
  },
  "kernelspec": {
   "display_name": "Python 3.10.4 64-bit",
   "language": "python",
   "name": "python3"
  },
  "language_info": {
   "codemirror_mode": {
    "name": "ipython",
    "version": 3
   },
   "file_extension": ".py",
   "mimetype": "text/x-python",
   "name": "python",
   "nbconvert_exporter": "python",
   "pygments_lexer": "ipython3",
   "version": "3.10.4"
  },
  "orig_nbformat": 4
 },
 "nbformat": 4,
 "nbformat_minor": 2
}
